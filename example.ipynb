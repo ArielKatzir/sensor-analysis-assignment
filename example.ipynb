{
 "cells": [
  {
   "cell_type": "code",
   "execution_count": 1,
   "id": "a6a8b399-50ff-4d60-bf95-c80f0bc887ea",
   "metadata": {},
   "outputs": [],
   "source": [
    "from extract_features import process_dataset, load_and_process_sample\n",
    "from visualization import signal_viewer\n",
    "from imu_pipeline import IMUPipeline\n",
    "from pathlib import Path\n",
    "import pandas as pd\n",
    "import joblib\n",
    "import os"
   ]
  },
  {
   "cell_type": "code",
   "execution_count": 2,
   "id": "f7165b8b-235f-4a05-85ad-038a4f3784ae",
   "metadata": {},
   "outputs": [
    {
     "data": {
      "application/vnd.jupyter.widget-view+json": {
       "model_id": "fc378f62b69e47839694c07dcbddc935",
       "version_major": 2,
       "version_minor": 0
      },
      "text/plain": [
       "VBox(children=(Dropdown(description='Sample ID:', layout=Layout(width='50%'), options=('00104b76-d512-43d6-b2e…"
      ]
     },
     "metadata": {},
     "output_type": "display_data"
    }
   ],
   "source": [
    "signal_viewer(\n",
    "    data_dir=Path('data/raw/train'),\n",
    "    labels_csv=Path('data/train.csv')\n",
    ")"
   ]
  },
  {
   "cell_type": "code",
   "execution_count": 3,
   "id": "0f5c3044",
   "metadata": {},
   "outputs": [
    {
     "name": "stdout",
     "output_type": "stream",
     "text": [
      "[INFO] No label CSV found for 'inference' – proceeding without labels.\n",
      "\n",
      "Processing 'inference' dataset...\n"
     ]
    },
    {
     "name": "stderr",
     "output_type": "stream",
     "text": [
      "100%|██████████| 473/473 [00:08<00:00, 59.00it/s]\n"
     ]
    },
    {
     "name": "stdout",
     "output_type": "stream",
     "text": [
      "Processed 473 samples to data/inference.csv\n"
     ]
    },
    {
     "data": {
      "text/html": [
       "<div>\n",
       "<style scoped>\n",
       "    .dataframe tbody tr th:only-of-type {\n",
       "        vertical-align: middle;\n",
       "    }\n",
       "\n",
       "    .dataframe tbody tr th {\n",
       "        vertical-align: top;\n",
       "    }\n",
       "\n",
       "    .dataframe thead th {\n",
       "        text-align: right;\n",
       "    }\n",
       "</style>\n",
       "<table border=\"1\" class=\"dataframe\">\n",
       "  <thead>\n",
       "    <tr style=\"text-align: right;\">\n",
       "      <th></th>\n",
       "      <th>x_mean</th>\n",
       "      <th>x_std</th>\n",
       "      <th>x_max</th>\n",
       "      <th>x_min</th>\n",
       "      <th>x_range</th>\n",
       "      <th>x_skew</th>\n",
       "      <th>x_kurtosis</th>\n",
       "      <th>x_n_peaks</th>\n",
       "      <th>x_energy</th>\n",
       "      <th>y_mean</th>\n",
       "      <th>...</th>\n",
       "      <th>temperature</th>\n",
       "      <th>humidity</th>\n",
       "      <th>altitude</th>\n",
       "      <th>session_id</th>\n",
       "      <th>firmware_version</th>\n",
       "      <th>calibration_status</th>\n",
       "      <th>battery_level</th>\n",
       "      <th>gps_accuracy</th>\n",
       "      <th>network_type</th>\n",
       "      <th>device_model</th>\n",
       "    </tr>\n",
       "  </thead>\n",
       "  <tbody>\n",
       "    <tr>\n",
       "      <th>0</th>\n",
       "      <td>2.578586</td>\n",
       "      <td>2.362892</td>\n",
       "      <td>8.999561</td>\n",
       "      <td>-5.200753</td>\n",
       "      <td>14.200314</td>\n",
       "      <td>0.193760</td>\n",
       "      <td>1.400440</td>\n",
       "      <td>31</td>\n",
       "      <td>1223.236383</td>\n",
       "      <td>2.995496</td>\n",
       "      <td>...</td>\n",
       "      <td>12</td>\n",
       "      <td>49</td>\n",
       "      <td>996</td>\n",
       "      <td>S603575</td>\n",
       "      <td>v1.3.0</td>\n",
       "      <td>ok</td>\n",
       "      <td>79</td>\n",
       "      <td>5.570705</td>\n",
       "      <td>4g</td>\n",
       "      <td>model_c</td>\n",
       "    </tr>\n",
       "    <tr>\n",
       "      <th>1</th>\n",
       "      <td>-0.114423</td>\n",
       "      <td>2.185548</td>\n",
       "      <td>10.289834</td>\n",
       "      <td>-5.283784</td>\n",
       "      <td>15.573618</td>\n",
       "      <td>2.164783</td>\n",
       "      <td>7.702143</td>\n",
       "      <td>5</td>\n",
       "      <td>478.971240</td>\n",
       "      <td>0.343485</td>\n",
       "      <td>...</td>\n",
       "      <td>22</td>\n",
       "      <td>75</td>\n",
       "      <td>607</td>\n",
       "      <td>S949312</td>\n",
       "      <td>v1.2.4</td>\n",
       "      <td>ok</td>\n",
       "      <td>81</td>\n",
       "      <td>3.181146</td>\n",
       "      <td>4g</td>\n",
       "      <td>model_c</td>\n",
       "    </tr>\n",
       "    <tr>\n",
       "      <th>2</th>\n",
       "      <td>0.061702</td>\n",
       "      <td>0.147340</td>\n",
       "      <td>0.291371</td>\n",
       "      <td>-0.208436</td>\n",
       "      <td>0.499806</td>\n",
       "      <td>-0.407912</td>\n",
       "      <td>-1.211002</td>\n",
       "      <td>15</td>\n",
       "      <td>2.551629</td>\n",
       "      <td>0.015451</td>\n",
       "      <td>...</td>\n",
       "      <td>30</td>\n",
       "      <td>52</td>\n",
       "      <td>482</td>\n",
       "      <td>S223545</td>\n",
       "      <td>v1.2.3</td>\n",
       "      <td>recent</td>\n",
       "      <td>95</td>\n",
       "      <td>2.987759</td>\n",
       "      <td>4g</td>\n",
       "      <td>model_b</td>\n",
       "    </tr>\n",
       "    <tr>\n",
       "      <th>3</th>\n",
       "      <td>1.354891</td>\n",
       "      <td>2.486652</td>\n",
       "      <td>11.114359</td>\n",
       "      <td>-6.365416</td>\n",
       "      <td>17.479775</td>\n",
       "      <td>0.764660</td>\n",
       "      <td>3.152818</td>\n",
       "      <td>15</td>\n",
       "      <td>801.916607</td>\n",
       "      <td>1.424555</td>\n",
       "      <td>...</td>\n",
       "      <td>11</td>\n",
       "      <td>36</td>\n",
       "      <td>463</td>\n",
       "      <td>S993755</td>\n",
       "      <td>v1.2.3</td>\n",
       "      <td>pending</td>\n",
       "      <td>47</td>\n",
       "      <td>9.744692</td>\n",
       "      <td>4g</td>\n",
       "      <td>model_a</td>\n",
       "    </tr>\n",
       "    <tr>\n",
       "      <th>4</th>\n",
       "      <td>0.061687</td>\n",
       "      <td>0.141320</td>\n",
       "      <td>0.278571</td>\n",
       "      <td>-0.246872</td>\n",
       "      <td>0.525443</td>\n",
       "      <td>-0.440889</td>\n",
       "      <td>-1.157643</td>\n",
       "      <td>17</td>\n",
       "      <td>2.377675</td>\n",
       "      <td>0.018567</td>\n",
       "      <td>...</td>\n",
       "      <td>13</td>\n",
       "      <td>41</td>\n",
       "      <td>759</td>\n",
       "      <td>S734746</td>\n",
       "      <td>v1.2.4</td>\n",
       "      <td>recent</td>\n",
       "      <td>37</td>\n",
       "      <td>3.622219</td>\n",
       "      <td>wifi</td>\n",
       "      <td>model_a</td>\n",
       "    </tr>\n",
       "    <tr>\n",
       "      <th>...</th>\n",
       "      <td>...</td>\n",
       "      <td>...</td>\n",
       "      <td>...</td>\n",
       "      <td>...</td>\n",
       "      <td>...</td>\n",
       "      <td>...</td>\n",
       "      <td>...</td>\n",
       "      <td>...</td>\n",
       "      <td>...</td>\n",
       "      <td>...</td>\n",
       "      <td>...</td>\n",
       "      <td>...</td>\n",
       "      <td>...</td>\n",
       "      <td>...</td>\n",
       "      <td>...</td>\n",
       "      <td>...</td>\n",
       "      <td>...</td>\n",
       "      <td>...</td>\n",
       "      <td>...</td>\n",
       "      <td>...</td>\n",
       "      <td>...</td>\n",
       "    </tr>\n",
       "    <tr>\n",
       "      <th>468</th>\n",
       "      <td>0.060402</td>\n",
       "      <td>0.141580</td>\n",
       "      <td>0.300225</td>\n",
       "      <td>-0.230982</td>\n",
       "      <td>0.531207</td>\n",
       "      <td>-0.394775</td>\n",
       "      <td>-1.216041</td>\n",
       "      <td>14</td>\n",
       "      <td>2.369336</td>\n",
       "      <td>0.015395</td>\n",
       "      <td>...</td>\n",
       "      <td>15</td>\n",
       "      <td>57</td>\n",
       "      <td>750</td>\n",
       "      <td>S165342</td>\n",
       "      <td>v1.2.4</td>\n",
       "      <td>ok</td>\n",
       "      <td>54</td>\n",
       "      <td>9.761510</td>\n",
       "      <td>4g</td>\n",
       "      <td>model_c</td>\n",
       "    </tr>\n",
       "    <tr>\n",
       "      <th>469</th>\n",
       "      <td>0.159769</td>\n",
       "      <td>2.509925</td>\n",
       "      <td>8.347333</td>\n",
       "      <td>-9.574540</td>\n",
       "      <td>17.921873</td>\n",
       "      <td>0.287556</td>\n",
       "      <td>3.356591</td>\n",
       "      <td>10</td>\n",
       "      <td>632.524802</td>\n",
       "      <td>1.805974</td>\n",
       "      <td>...</td>\n",
       "      <td>12</td>\n",
       "      <td>76</td>\n",
       "      <td>900</td>\n",
       "      <td>S653588</td>\n",
       "      <td>v1.3.0</td>\n",
       "      <td>pending</td>\n",
       "      <td>23</td>\n",
       "      <td>8.203065</td>\n",
       "      <td>4g</td>\n",
       "      <td>model_a</td>\n",
       "    </tr>\n",
       "    <tr>\n",
       "      <th>470</th>\n",
       "      <td>-0.548699</td>\n",
       "      <td>2.591718</td>\n",
       "      <td>6.550702</td>\n",
       "      <td>-8.426525</td>\n",
       "      <td>14.977227</td>\n",
       "      <td>-0.191147</td>\n",
       "      <td>1.450593</td>\n",
       "      <td>11</td>\n",
       "      <td>701.807315</td>\n",
       "      <td>1.414847</td>\n",
       "      <td>...</td>\n",
       "      <td>22</td>\n",
       "      <td>77</td>\n",
       "      <td>11</td>\n",
       "      <td>S945979</td>\n",
       "      <td>v1.3.0</td>\n",
       "      <td>pending</td>\n",
       "      <td>80</td>\n",
       "      <td>5.033353</td>\n",
       "      <td>5g</td>\n",
       "      <td>model_b</td>\n",
       "    </tr>\n",
       "    <tr>\n",
       "      <th>471</th>\n",
       "      <td>-0.559437</td>\n",
       "      <td>1.851954</td>\n",
       "      <td>4.829766</td>\n",
       "      <td>-6.744202</td>\n",
       "      <td>11.573968</td>\n",
       "      <td>-0.103196</td>\n",
       "      <td>1.832355</td>\n",
       "      <td>9</td>\n",
       "      <td>374.270158</td>\n",
       "      <td>1.994104</td>\n",
       "      <td>...</td>\n",
       "      <td>29</td>\n",
       "      <td>50</td>\n",
       "      <td>831</td>\n",
       "      <td>S424057</td>\n",
       "      <td>v1.3.0</td>\n",
       "      <td>pending</td>\n",
       "      <td>83</td>\n",
       "      <td>1.703700</td>\n",
       "      <td>5g</td>\n",
       "      <td>model_c</td>\n",
       "    </tr>\n",
       "    <tr>\n",
       "      <th>472</th>\n",
       "      <td>1.097805</td>\n",
       "      <td>1.782988</td>\n",
       "      <td>6.098609</td>\n",
       "      <td>-6.824390</td>\n",
       "      <td>12.922999</td>\n",
       "      <td>-0.822844</td>\n",
       "      <td>3.602370</td>\n",
       "      <td>22</td>\n",
       "      <td>438.422408</td>\n",
       "      <td>-1.092403</td>\n",
       "      <td>...</td>\n",
       "      <td>27</td>\n",
       "      <td>57</td>\n",
       "      <td>602</td>\n",
       "      <td>S493380</td>\n",
       "      <td>v1.2.3</td>\n",
       "      <td>recent</td>\n",
       "      <td>22</td>\n",
       "      <td>7.659065</td>\n",
       "      <td>4g</td>\n",
       "      <td>model_a</td>\n",
       "    </tr>\n",
       "  </tbody>\n",
       "</table>\n",
       "<p>473 rows × 60 columns</p>\n",
       "</div>"
      ],
      "text/plain": [
       "       x_mean     x_std      x_max     x_min    x_range    x_skew  x_kurtosis  \\\n",
       "0    2.578586  2.362892   8.999561 -5.200753  14.200314  0.193760    1.400440   \n",
       "1   -0.114423  2.185548  10.289834 -5.283784  15.573618  2.164783    7.702143   \n",
       "2    0.061702  0.147340   0.291371 -0.208436   0.499806 -0.407912   -1.211002   \n",
       "3    1.354891  2.486652  11.114359 -6.365416  17.479775  0.764660    3.152818   \n",
       "4    0.061687  0.141320   0.278571 -0.246872   0.525443 -0.440889   -1.157643   \n",
       "..        ...       ...        ...       ...        ...       ...         ...   \n",
       "468  0.060402  0.141580   0.300225 -0.230982   0.531207 -0.394775   -1.216041   \n",
       "469  0.159769  2.509925   8.347333 -9.574540  17.921873  0.287556    3.356591   \n",
       "470 -0.548699  2.591718   6.550702 -8.426525  14.977227 -0.191147    1.450593   \n",
       "471 -0.559437  1.851954   4.829766 -6.744202  11.573968 -0.103196    1.832355   \n",
       "472  1.097805  1.782988   6.098609 -6.824390  12.922999 -0.822844    3.602370   \n",
       "\n",
       "     x_n_peaks     x_energy    y_mean  ...  temperature  humidity  altitude  \\\n",
       "0           31  1223.236383  2.995496  ...           12        49       996   \n",
       "1            5   478.971240  0.343485  ...           22        75       607   \n",
       "2           15     2.551629  0.015451  ...           30        52       482   \n",
       "3           15   801.916607  1.424555  ...           11        36       463   \n",
       "4           17     2.377675  0.018567  ...           13        41       759   \n",
       "..         ...          ...       ...  ...          ...       ...       ...   \n",
       "468         14     2.369336  0.015395  ...           15        57       750   \n",
       "469         10   632.524802  1.805974  ...           12        76       900   \n",
       "470         11   701.807315  1.414847  ...           22        77        11   \n",
       "471          9   374.270158  1.994104  ...           29        50       831   \n",
       "472         22   438.422408 -1.092403  ...           27        57       602   \n",
       "\n",
       "     session_id  firmware_version  calibration_status  battery_level  \\\n",
       "0       S603575            v1.3.0                  ok             79   \n",
       "1       S949312            v1.2.4                  ok             81   \n",
       "2       S223545            v1.2.3              recent             95   \n",
       "3       S993755            v1.2.3             pending             47   \n",
       "4       S734746            v1.2.4              recent             37   \n",
       "..          ...               ...                 ...            ...   \n",
       "468     S165342            v1.2.4                  ok             54   \n",
       "469     S653588            v1.3.0             pending             23   \n",
       "470     S945979            v1.3.0             pending             80   \n",
       "471     S424057            v1.3.0             pending             83   \n",
       "472     S493380            v1.2.3              recent             22   \n",
       "\n",
       "     gps_accuracy  network_type  device_model  \n",
       "0        5.570705            4g       model_c  \n",
       "1        3.181146            4g       model_c  \n",
       "2        2.987759            4g       model_b  \n",
       "3        9.744692            4g       model_a  \n",
       "4        3.622219          wifi       model_a  \n",
       "..            ...           ...           ...  \n",
       "468      9.761510            4g       model_c  \n",
       "469      8.203065            4g       model_a  \n",
       "470      5.033353            5g       model_b  \n",
       "471      1.703700            5g       model_c  \n",
       "472      7.659065            4g       model_a  \n",
       "\n",
       "[473 rows x 60 columns]"
      ]
     },
     "execution_count": 3,
     "metadata": {},
     "output_type": "execute_result"
    }
   ],
   "source": [
    "# step 2\n",
    "from extract_features import process_dataset\n",
    "process_dataset('inference')"
   ]
  },
  {
   "cell_type": "code",
   "execution_count": 4,
   "id": "fbae8aa1",
   "metadata": {},
   "outputs": [
    {
     "data": {
      "text/plain": [
       "(473, 2)"
      ]
     },
     "execution_count": 4,
     "metadata": {},
     "output_type": "execute_result"
    }
   ],
   "source": [
    "# step 3\n",
    "import pandas as pd\n",
    "labels = pd.read_csv(\"data/manual_annotation/inference_labels.csv\")\n",
    "labels.shape"
   ]
  },
  {
   "cell_type": "code",
   "execution_count": 5,
   "id": "c788dbb3",
   "metadata": {},
   "outputs": [
    {
     "data": {
      "text/html": [
       "<div>\n",
       "<style scoped>\n",
       "    .dataframe tbody tr th:only-of-type {\n",
       "        vertical-align: middle;\n",
       "    }\n",
       "\n",
       "    .dataframe tbody tr th {\n",
       "        vertical-align: top;\n",
       "    }\n",
       "\n",
       "    .dataframe thead th {\n",
       "        text-align: right;\n",
       "    }\n",
       "</style>\n",
       "<table border=\"1\" class=\"dataframe\">\n",
       "  <thead>\n",
       "    <tr style=\"text-align: right;\">\n",
       "      <th></th>\n",
       "      <th>sample_id</th>\n",
       "      <th>label</th>\n",
       "    </tr>\n",
       "  </thead>\n",
       "  <tbody>\n",
       "    <tr>\n",
       "      <th>0</th>\n",
       "      <td>b67dd849-bf1a-4083-a09b-e56eea5b58ca</td>\n",
       "      <td>collision</td>\n",
       "    </tr>\n",
       "    <tr>\n",
       "      <th>1</th>\n",
       "      <td>2fe95d3e-1db2-420e-a9b6-880a3e76251c</td>\n",
       "      <td>collision</td>\n",
       "    </tr>\n",
       "    <tr>\n",
       "      <th>2</th>\n",
       "      <td>3b0de448-dd4c-4300-949c-1d58b8f32795</td>\n",
       "      <td>collision</td>\n",
       "    </tr>\n",
       "    <tr>\n",
       "      <th>3</th>\n",
       "      <td>e38b956f-e34f-4527-8cd7-8890fd0b2b76</td>\n",
       "      <td>collision</td>\n",
       "    </tr>\n",
       "    <tr>\n",
       "      <th>4</th>\n",
       "      <td>284498b7-94bd-42fe-9e57-814554fab41f</td>\n",
       "      <td>collision</td>\n",
       "    </tr>\n",
       "    <tr>\n",
       "      <th>5</th>\n",
       "      <td>7965c2bd-e17a-4d7f-acfc-156805cc41a0</td>\n",
       "      <td>collision</td>\n",
       "    </tr>\n",
       "    <tr>\n",
       "      <th>6</th>\n",
       "      <td>0c898243-2688-47ed-babb-5001263ee6a3</td>\n",
       "      <td>collision</td>\n",
       "    </tr>\n",
       "    <tr>\n",
       "      <th>7</th>\n",
       "      <td>68115c10-b0e5-4cc6-88a6-d2db1d0c5502</td>\n",
       "      <td>collision</td>\n",
       "    </tr>\n",
       "    <tr>\n",
       "      <th>8</th>\n",
       "      <td>561523f2-8644-4785-89d6-16158dc7ffb8</td>\n",
       "      <td>collision</td>\n",
       "    </tr>\n",
       "    <tr>\n",
       "      <th>9</th>\n",
       "      <td>01b5f718-2978-468f-9789-89003ba755e6</td>\n",
       "      <td>collision</td>\n",
       "    </tr>\n",
       "  </tbody>\n",
       "</table>\n",
       "</div>"
      ],
      "text/plain": [
       "                              sample_id      label\n",
       "0  b67dd849-bf1a-4083-a09b-e56eea5b58ca  collision\n",
       "1  2fe95d3e-1db2-420e-a9b6-880a3e76251c  collision\n",
       "2  3b0de448-dd4c-4300-949c-1d58b8f32795  collision\n",
       "3  e38b956f-e34f-4527-8cd7-8890fd0b2b76  collision\n",
       "4  284498b7-94bd-42fe-9e57-814554fab41f  collision\n",
       "5  7965c2bd-e17a-4d7f-acfc-156805cc41a0  collision\n",
       "6  0c898243-2688-47ed-babb-5001263ee6a3  collision\n",
       "7  68115c10-b0e5-4cc6-88a6-d2db1d0c5502  collision\n",
       "8  561523f2-8644-4785-89d6-16158dc7ffb8  collision\n",
       "9  01b5f718-2978-468f-9789-89003ba755e6  collision"
      ]
     },
     "execution_count": 5,
     "metadata": {},
     "output_type": "execute_result"
    }
   ],
   "source": [
    "# show sample\n",
    "labels[:10]"
   ]
  },
  {
   "cell_type": "code",
   "execution_count": 6,
   "id": "afc80055",
   "metadata": {},
   "outputs": [
    {
     "data": {
      "text/plain": [
       "(473, 60)"
      ]
     },
     "execution_count": 6,
     "metadata": {},
     "output_type": "execute_result"
    }
   ],
   "source": [
    "# step 4 - with modification\n",
    "import joblib\n",
    "from imu_pipeline import IMUPipeline\n",
    "\n",
    "df_inf = pd.read_csv(\"data/inference.csv\")\n",
    "model = joblib.load(\"models/imu_pipeline.pkl\")\n",
    "\n",
    "# inference.csv and infrence labels arent sorted the same. Reindexing here to make it easier to visualise\n",
    "df_inf = df_inf.set_index(\"sample_id\").reindex(labels[\"sample_id\"]).reset_index()\n",
    "df_inf.shape"
   ]
  },
  {
   "cell_type": "code",
   "execution_count": 7,
   "id": "ee7b41dd",
   "metadata": {},
   "outputs": [
    {
     "data": {
      "text/plain": [
       "((473,), (473, 2))"
      ]
     },
     "execution_count": 7,
     "metadata": {},
     "output_type": "execute_result"
    }
   ],
   "source": [
    "preds = model.predict(df_inf)\n",
    "probs = model.predict_proba(df_inf)\n",
    "preds.shape, probs.shape"
   ]
  },
  {
   "cell_type": "code",
   "execution_count": 8,
   "id": "64a6aedf",
   "metadata": {},
   "outputs": [
    {
     "name": "stdout",
     "output_type": "stream",
     "text": [
      "('collision', array([0.96, 0.04]))\n",
      "('collision', array([0.97, 0.03]))\n",
      "('collision', array([0.94, 0.06]))\n",
      "('collision', array([1., 0.]))\n",
      "('collision', array([1., 0.]))\n",
      "('collision', array([0.98, 0.02]))\n",
      "('collision', array([1., 0.]))\n",
      "('collision', array([0.95, 0.05]))\n",
      "('collision', array([1., 0.]))\n",
      "('collision', array([1., 0.]))\n"
     ]
    }
   ],
   "source": [
    "# show pred sample\n",
    "for i in zip(preds[:10],probs[:10]):\n",
    "    print(i)"
   ]
  },
  {
   "cell_type": "code",
   "execution_count": 9,
   "id": "c6651807",
   "metadata": {},
   "outputs": [],
   "source": [
    "# step 5\n",
    "import numpy as np\n",
    "from sklearn.metrics import accuracy_score, precision_score, recall_score, f1_score\n"
   ]
  },
  {
   "cell_type": "code",
   "execution_count": 10,
   "id": "9b284380",
   "metadata": {},
   "outputs": [
    {
     "data": {
      "text/plain": [
       "{'Accuracy': 0.6448202959830867,\n",
       " 'Precision': 0.5885416666666666,\n",
       " 'Recall': 0.9576271186440678,\n",
       " 'F1': 0.7290322580645161}"
      ]
     },
     "execution_count": 10,
     "metadata": {},
     "output_type": "execute_result"
    }
   ],
   "source": [
    "# metrics\n",
    "accuracy = accuracy_score(labels[\"label\"], preds)\n",
    "precision = precision_score(labels[\"label\"], preds, pos_label=\"collision\")\n",
    "recall = recall_score(labels[\"label\"], preds, pos_label=\"collision\")\n",
    "f1 = f1_score(labels[\"label\"], preds, pos_label=\"collision\")\n",
    "\n",
    "inf_metrics = {\n",
    "    \"Accuracy\" : accuracy,\n",
    "    \"Precision\" : precision,\n",
    "    \"Recall\" : recall,\n",
    "    \"F1\" : f1\n",
    "}\n",
    "inf_metrics"
   ]
  },
  {
   "cell_type": "code",
   "execution_count": 11,
   "id": "5a311aa7",
   "metadata": {},
   "outputs": [
    {
     "data": {
      "text/plain": [
       "((200, 60), (200,))"
      ]
     },
     "execution_count": 11,
     "metadata": {},
     "output_type": "execute_result"
    }
   ],
   "source": [
    "# test set\n",
    "df_test = pd.read_csv(\"data/test.csv\")\n",
    "test_labels = df_test.pop(\"label\")\n",
    "df_test.shape, test_labels.shape"
   ]
  },
  {
   "cell_type": "code",
   "execution_count": 12,
   "id": "5eee74d3",
   "metadata": {},
   "outputs": [
    {
     "data": {
      "text/plain": [
       "((200,), (200, 2))"
      ]
     },
     "execution_count": 12,
     "metadata": {},
     "output_type": "execute_result"
    }
   ],
   "source": [
    "preds = model.predict(df_test)\n",
    "probs = model.predict_proba(df_test)\n",
    "preds.shape, probs.shape"
   ]
  },
  {
   "cell_type": "code",
   "execution_count": 13,
   "id": "32af5e48",
   "metadata": {},
   "outputs": [],
   "source": [
    "accuracy = accuracy_score(test_labels, preds)\n",
    "precision = precision_score(test_labels, preds, pos_label=\"collision\")\n",
    "recall = recall_score(test_labels, preds, pos_label=\"collision\")\n",
    "f1 = f1_score(test_labels, preds, pos_label=\"collision\")\n",
    "test_metrics = {\n",
    "    \"Accuracy\" : accuracy,\n",
    "    \"Precision\" : precision,\n",
    "    \"Recall\" : recall,\n",
    "    \"F1\" : f1\n",
    "}"
   ]
  },
  {
   "cell_type": "code",
   "execution_count": 14,
   "id": "7163239d",
   "metadata": {},
   "outputs": [
    {
     "data": {
      "text/plain": [
       "{'inference_metrics': {'Accuracy': 0.6448202959830867,\n",
       "  'Precision': 0.5885416666666666,\n",
       "  'Recall': 0.9576271186440678,\n",
       "  'F1': 0.7290322580645161},\n",
       " 'test_metrics': {'Accuracy': 0.945,\n",
       "  'Precision': 1.0,\n",
       "  'Recall': 0.89,\n",
       "  'F1': 0.9417989417989417}}"
      ]
     },
     "execution_count": 14,
     "metadata": {},
     "output_type": "execute_result"
    }
   ],
   "source": [
    "metrics = {\n",
    "    \"inference_metrics\" : inf_metrics,\n",
    "    \"test_metrics\": test_metrics\n",
    "}\n",
    "metrics"
   ]
  },
  {
   "cell_type": "markdown",
   "id": "0319cf27-f9e4-470b-9218-8b5bd4f9d0b9",
   "metadata": {},
   "source": [
    "# ❓ Questions to Reflect On\n",
    "\n",
    "\n",
    "- What do you observe when comparing the model’s predictions on the new data to its known performance?\n",
    "\n",
    "- Is there anything in the data that might explain differences in behavior?\n",
    "\n",
    "- Can you identify patterns or trends related to when the model succeeds or fails?\n",
    "\n",
    "- Are there signals or features that seem to affect the model’s reliability?\n",
    "\n",
    "- What could be done in the short term to handle the current situation?\n",
    "\n",
    "- What are potential long-term steps to improve model performance in similar scenarios?\n",
    "\n",
    "- What would you want to explore further if given more time or data?\n",
    "\n",
    "- What assumptions did the model rely on during training — and are they still valid?"
   ]
  }
 ],
 "metadata": {
  "kernelspec": {
   "display_name": ".venv",
   "language": "python",
   "name": "python3"
  },
  "language_info": {
   "codemirror_mode": {
    "name": "ipython",
    "version": 3
   },
   "file_extension": ".py",
   "mimetype": "text/x-python",
   "name": "python",
   "nbconvert_exporter": "python",
   "pygments_lexer": "ipython3",
   "version": "3.9.5"
  }
 },
 "nbformat": 4,
 "nbformat_minor": 5
}
